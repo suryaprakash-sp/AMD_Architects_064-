from selenium import webdriver
from selenium.webdriver.firefox.service import Service
from selenium.webdriver.common.by import By
import pandas as pd

driver_path = 'C:\Geckodriver'
service= Service(executable_path=driver_path)
driver= webdriver.firefox(service=service)
driver.get('https://www.1mg.com/categories/homeopathy-57?filter=true&page=6')
